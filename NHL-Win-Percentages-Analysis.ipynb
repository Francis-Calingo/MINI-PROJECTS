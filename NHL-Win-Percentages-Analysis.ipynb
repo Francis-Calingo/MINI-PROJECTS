{
 "cells": [
  {
   "cell_type": "markdown",
   "id": "3c2b6f63-6559-4187-994b-1c830d976b5f",
   "metadata": {
    "tags": []
   },
   "source": [
    "# **Analysis of National Hockey League (NHL) Win Percentages**"
   ]
  },
  {
   "cell_type": "markdown",
   "id": "5bc2bec8-2aec-4463-a438-c88cdb299bf7",
   "metadata": {},
   "source": [
    "## **Intuition**"
   ]
  },
  {
   "cell_type": "markdown",
   "id": "a86c47d1-87ad-4756-b707-509015ad492f",
   "metadata": {},
   "source": [
    "Ice hockey is my favourite sport to watch and follow, and the NHL is by far its premier league. The NHL likes to market its parity, and that other sports leagues, at least other major professional sports leagues in North America, do not compare. For those who are unaware of what parity is, it is essentially the notion that every team, regardless of their revenue or the quality of their team, has a more or less equal chance of winning their respective league's championship. Infamous NHL playoff upsets such as the LA Kings becoming the 4th team in NHL history to win a 7-game series after trailing 3 games to none to the San Jose Sharks in 2014, and the Columbus Blue Jackets beating the Tampa Bay Lightning 4-0 in 2019 (Tampa tied a then-NHL record 62 regular season wins while Columbus have not even won a playoff series in their history at that point) seem to reinforce that notion, regardless of its level of veracity. The dominance of teams from other major North American sports leagues over the decades such as the Miami Heat, Golden State Warriors, Kansas City Chiefs, and New York Yankees, also add fuel to that belief.\n",
    "\n",
    "That had me pondering what were the regular season points percentage of teams over the past decades up to now (in the regular season, teams get two points for a win, 1 point for an overtime or shootout loss, 0 points for a regulation loss. Back then, games were allowed to finished tied, and  therefore, both teams were awarded 1 point each.) In particular, I want to focus on three teams in particular: Stanley Cup Winners, Stanley Cup Finalists, and Regular Season Champions** (i.e., the team that finished with the highest points, and, therefore, highest point percentage in the regular season). In other words, with different playoff formatting, different levels of competitiveness, different rules, and other factors, will there be a trend over time? I will begin tracking data starting from 1968 (The 1967-68 season was the first NHL season to expand beyong their Original Six teams).\n",
    "\n",
    "** Note: It was only until 1985 that the NHL began awarding the President's Trophy to the team that finished with the most points in the regular season. Until then, there was no award for that distinction."
   ]
  },
  {
   "cell_type": "markdown",
   "id": "7373269c-fcb7-4ea2-ae80-4a63e169b0ba",
   "metadata": {
    "tags": []
   },
   "source": [
    "## **Hypothesis**"
   ]
  },
  {
   "cell_type": "markdown",
   "id": "93bda257-e8ac-4990-b3b8-9cadfa425e7b",
   "metadata": {},
   "source": [
    "I hypothesize that there will be a slight downward trend when it comes to point percentage. In this current NHL, with more teams being more competitive, and with the odds of a team advancing to playoffs being lower than at other points during the NHL's history (16 of 32 teams make it to the playoff, while, from 1979 up to the 1990s, 16 of 21 teams made it), I would imagine that the regaular season win percentages would dip over time. For those unaware of the playoff structure, it has evolved over time, but they always involve teams with better regular season records (and, by extension, regular season point percentage) slated to play teams with worse regular season records. With the NHL being more competitive than before, the point differences between opponents in the playoffs are generally not as huge as previous seasons. It's no wonder that the last time a team won the Cup more tha 3 times in a row or at least 4 within less than a decade was in the 1980s.\n",
    "\n",
    "Keep in mind that I only hypothesize that it would be a slight downward trend, but not a drastic trend. At the end of the day, a team needs to be very good to make it to the Finals, let alone win the Cup. After all, for the last several decades, they need to beat three different teams in three different best-of-seven playoff series (with some of them certainly having very good regular season records) just to advance to the Finals. Once in a while, there will be a team with a not-so-stellar record that will advance to the Finals, and maybe even win the Cup, but I still expect that to be an occasional anomaly rather than the norm."
   ]
  },
  {
   "cell_type": "markdown",
   "id": "4faf7e0f-69a9-4645-959c-58d92c71375e",
   "metadata": {},
   "source": [
    "## **Data Preparation and Pre-Processing**"
   ]
  },
  {
   "cell_type": "code",
   "execution_count": 67,
   "id": "009f6f6c-0256-4c6c-9661-e6ff6ba238fa",
   "metadata": {
    "tags": []
   },
   "outputs": [],
   "source": [
    "#I used the following links to gather my data\n",
    "\"https://records.nhl.com/awards/stanley-cup/winners\" #Obtain Winners and Finalists\n",
    "\"https://www.nhl.com/standings/2024-04-18/league\" #Obtain Points%, and Regular Season Champions, change by year.\n",
    "\n",
    "#Here are the relevant libraries\n",
    "import pandas as pd\n",
    "import plotly.express as px\n",
    "import matplotlib.pyplot as plt\n",
    "from dash import Dash, html, dcc"
   ]
  },
  {
   "cell_type": "code",
   "execution_count": 48,
   "id": "728c20bb-c54e-478f-b82e-43b5a8c5a76f",
   "metadata": {
    "tags": []
   },
   "outputs": [
    {
     "data": {
      "text/html": [
       "<div>\n",
       "<style scoped>\n",
       "    .dataframe tbody tr th:only-of-type {\n",
       "        vertical-align: middle;\n",
       "    }\n",
       "\n",
       "    .dataframe tbody tr th {\n",
       "        vertical-align: top;\n",
       "    }\n",
       "\n",
       "    .dataframe thead th {\n",
       "        text-align: right;\n",
       "    }\n",
       "</style>\n",
       "<table border=\"1\" class=\"dataframe\">\n",
       "  <thead>\n",
       "    <tr style=\"text-align: right;\">\n",
       "      <th></th>\n",
       "      <th>YEAR</th>\n",
       "      <th>TEAM</th>\n",
       "      <th>POINTS %</th>\n",
       "      <th>TYPE</th>\n",
       "    </tr>\n",
       "  </thead>\n",
       "  <tbody>\n",
       "    <tr>\n",
       "      <th>0</th>\n",
       "      <td>1968</td>\n",
       "      <td>Montreal Canadiens</td>\n",
       "      <td>0.635</td>\n",
       "      <td>WINNER</td>\n",
       "    </tr>\n",
       "    <tr>\n",
       "      <th>1</th>\n",
       "      <td>1969</td>\n",
       "      <td>Montreal Canadiens</td>\n",
       "      <td>0.678</td>\n",
       "      <td>WINNER</td>\n",
       "    </tr>\n",
       "    <tr>\n",
       "      <th>2</th>\n",
       "      <td>1970</td>\n",
       "      <td>Boston Bruins</td>\n",
       "      <td>0.651</td>\n",
       "      <td>WINNER</td>\n",
       "    </tr>\n",
       "    <tr>\n",
       "      <th>3</th>\n",
       "      <td>1971</td>\n",
       "      <td>Montreal Canadiens</td>\n",
       "      <td>0.622</td>\n",
       "      <td>WINNER</td>\n",
       "    </tr>\n",
       "    <tr>\n",
       "      <th>4</th>\n",
       "      <td>1972</td>\n",
       "      <td>Boston Bruins</td>\n",
       "      <td>0.763</td>\n",
       "      <td>WINNER</td>\n",
       "    </tr>\n",
       "  </tbody>\n",
       "</table>\n",
       "</div>"
      ],
      "text/plain": [
       "   YEAR                TEAM  POINTS %    TYPE\n",
       "0  1968  Montreal Canadiens     0.635  WINNER\n",
       "1  1969  Montreal Canadiens     0.678  WINNER\n",
       "2  1970       Boston Bruins     0.651  WINNER\n",
       "3  1971  Montreal Canadiens     0.622  WINNER\n",
       "4  1972       Boston Bruins     0.763  WINNER"
      ]
     },
     "execution_count": 48,
     "metadata": {},
     "output_type": "execute_result"
    }
   ],
   "source": [
    "df = pd.read_csv(\"NHLWinPercentageData.csv\")\n",
    "#Note 1: Three types are WINNER, FINALIST, AND REGULAR SEASON CHAMPION\n",
    "#Note 2: The entries for 2005 is 0 because no Cup was awarded due to the NHL lockout that cancelled the 2004-05 season.\n",
    "df.head()"
   ]
  },
  {
   "cell_type": "code",
   "execution_count": 49,
   "id": "87457ca6-f5e4-4d24-8922-f28384f71075",
   "metadata": {
    "tags": []
   },
   "outputs": [
    {
     "data": {
      "text/html": [
       "<div>\n",
       "<style scoped>\n",
       "    .dataframe tbody tr th:only-of-type {\n",
       "        vertical-align: middle;\n",
       "    }\n",
       "\n",
       "    .dataframe tbody tr th {\n",
       "        vertical-align: top;\n",
       "    }\n",
       "\n",
       "    .dataframe thead th {\n",
       "        text-align: right;\n",
       "    }\n",
       "</style>\n",
       "<table border=\"1\" class=\"dataframe\">\n",
       "  <thead>\n",
       "    <tr style=\"text-align: right;\">\n",
       "      <th></th>\n",
       "      <th>YEAR</th>\n",
       "      <th>TEAM</th>\n",
       "      <th>POINTS %</th>\n",
       "      <th>TYPE</th>\n",
       "    </tr>\n",
       "  </thead>\n",
       "  <tbody>\n",
       "    <tr>\n",
       "      <th>0</th>\n",
       "      <td>1968</td>\n",
       "      <td>Montreal Canadiens</td>\n",
       "      <td>0.635</td>\n",
       "      <td>WINNER</td>\n",
       "    </tr>\n",
       "    <tr>\n",
       "      <th>1</th>\n",
       "      <td>1969</td>\n",
       "      <td>Montreal Canadiens</td>\n",
       "      <td>0.678</td>\n",
       "      <td>WINNER</td>\n",
       "    </tr>\n",
       "    <tr>\n",
       "      <th>2</th>\n",
       "      <td>1970</td>\n",
       "      <td>Boston Bruins</td>\n",
       "      <td>0.651</td>\n",
       "      <td>WINNER</td>\n",
       "    </tr>\n",
       "    <tr>\n",
       "      <th>3</th>\n",
       "      <td>1971</td>\n",
       "      <td>Montreal Canadiens</td>\n",
       "      <td>0.622</td>\n",
       "      <td>WINNER</td>\n",
       "    </tr>\n",
       "    <tr>\n",
       "      <th>4</th>\n",
       "      <td>1972</td>\n",
       "      <td>Boston Bruins</td>\n",
       "      <td>0.763</td>\n",
       "      <td>WINNER</td>\n",
       "    </tr>\n",
       "    <tr>\n",
       "      <th>...</th>\n",
       "      <td>...</td>\n",
       "      <td>...</td>\n",
       "      <td>...</td>\n",
       "      <td>...</td>\n",
       "    </tr>\n",
       "    <tr>\n",
       "      <th>166</th>\n",
       "      <td>2020</td>\n",
       "      <td>Boston Bruins</td>\n",
       "      <td>0.714</td>\n",
       "      <td>REGULAR SEASON CHAMPION</td>\n",
       "    </tr>\n",
       "    <tr>\n",
       "      <th>167</th>\n",
       "      <td>2021</td>\n",
       "      <td>Colorado Avalanche</td>\n",
       "      <td>0.732</td>\n",
       "      <td>REGULAR SEASON CHAMPION</td>\n",
       "    </tr>\n",
       "    <tr>\n",
       "      <th>168</th>\n",
       "      <td>2022</td>\n",
       "      <td>Florida Panthers</td>\n",
       "      <td>0.744</td>\n",
       "      <td>REGULAR SEASON CHAMPION</td>\n",
       "    </tr>\n",
       "    <tr>\n",
       "      <th>169</th>\n",
       "      <td>2023</td>\n",
       "      <td>Boston Bruins</td>\n",
       "      <td>0.823</td>\n",
       "      <td>REGULAR SEASON CHAMPION</td>\n",
       "    </tr>\n",
       "    <tr>\n",
       "      <th>170</th>\n",
       "      <td>2024</td>\n",
       "      <td>New York Rangers</td>\n",
       "      <td>0.695</td>\n",
       "      <td>REGULAR SEASON CHAMPION</td>\n",
       "    </tr>\n",
       "  </tbody>\n",
       "</table>\n",
       "<p>171 rows × 4 columns</p>\n",
       "</div>"
      ],
      "text/plain": [
       "     YEAR                TEAM  POINTS %                     TYPE\n",
       "0    1968  Montreal Canadiens     0.635                   WINNER\n",
       "1    1969  Montreal Canadiens     0.678                   WINNER\n",
       "2    1970       Boston Bruins     0.651                   WINNER\n",
       "3    1971  Montreal Canadiens     0.622                   WINNER\n",
       "4    1972       Boston Bruins     0.763                   WINNER\n",
       "..    ...                 ...       ...                      ...\n",
       "166  2020       Boston Bruins     0.714  REGULAR SEASON CHAMPION\n",
       "167  2021  Colorado Avalanche     0.732  REGULAR SEASON CHAMPION\n",
       "168  2022    Florida Panthers     0.744  REGULAR SEASON CHAMPION\n",
       "169  2023       Boston Bruins     0.823  REGULAR SEASON CHAMPION\n",
       "170  2024    New York Rangers     0.695  REGULAR SEASON CHAMPION\n",
       "\n",
       "[171 rows x 4 columns]"
      ]
     },
     "execution_count": 49,
     "metadata": {},
     "output_type": "execute_result"
    }
   ],
   "source": [
    "df"
   ]
  },
  {
   "cell_type": "code",
   "execution_count": 50,
   "id": "216789c7-e18d-4afb-875b-aa93a97f5b03",
   "metadata": {
    "tags": []
   },
   "outputs": [
    {
     "data": {
      "text/html": [
       "<div>\n",
       "<style scoped>\n",
       "    .dataframe tbody tr th:only-of-type {\n",
       "        vertical-align: middle;\n",
       "    }\n",
       "\n",
       "    .dataframe tbody tr th {\n",
       "        vertical-align: top;\n",
       "    }\n",
       "\n",
       "    .dataframe thead th {\n",
       "        text-align: right;\n",
       "    }\n",
       "</style>\n",
       "<table border=\"1\" class=\"dataframe\">\n",
       "  <thead>\n",
       "    <tr style=\"text-align: right;\">\n",
       "      <th></th>\n",
       "      <th>YEAR</th>\n",
       "      <th>TEAM</th>\n",
       "      <th>POINTS %</th>\n",
       "      <th>TYPE</th>\n",
       "    </tr>\n",
       "  </thead>\n",
       "  <tbody>\n",
       "    <tr>\n",
       "      <th>0</th>\n",
       "      <td>1968</td>\n",
       "      <td>Montreal Canadiens</td>\n",
       "      <td>0.635</td>\n",
       "      <td>WINNER</td>\n",
       "    </tr>\n",
       "    <tr>\n",
       "      <th>1</th>\n",
       "      <td>1969</td>\n",
       "      <td>Montreal Canadiens</td>\n",
       "      <td>0.678</td>\n",
       "      <td>WINNER</td>\n",
       "    </tr>\n",
       "    <tr>\n",
       "      <th>2</th>\n",
       "      <td>1970</td>\n",
       "      <td>Boston Bruins</td>\n",
       "      <td>0.651</td>\n",
       "      <td>WINNER</td>\n",
       "    </tr>\n",
       "    <tr>\n",
       "      <th>3</th>\n",
       "      <td>1971</td>\n",
       "      <td>Montreal Canadiens</td>\n",
       "      <td>0.622</td>\n",
       "      <td>WINNER</td>\n",
       "    </tr>\n",
       "    <tr>\n",
       "      <th>4</th>\n",
       "      <td>1972</td>\n",
       "      <td>Boston Bruins</td>\n",
       "      <td>0.763</td>\n",
       "      <td>WINNER</td>\n",
       "    </tr>\n",
       "    <tr>\n",
       "      <th>...</th>\n",
       "      <td>...</td>\n",
       "      <td>...</td>\n",
       "      <td>...</td>\n",
       "      <td>...</td>\n",
       "    </tr>\n",
       "    <tr>\n",
       "      <th>166</th>\n",
       "      <td>2020</td>\n",
       "      <td>Boston Bruins</td>\n",
       "      <td>0.714</td>\n",
       "      <td>REGULAR SEASON CHAMPION</td>\n",
       "    </tr>\n",
       "    <tr>\n",
       "      <th>167</th>\n",
       "      <td>2021</td>\n",
       "      <td>Colorado Avalanche</td>\n",
       "      <td>0.732</td>\n",
       "      <td>REGULAR SEASON CHAMPION</td>\n",
       "    </tr>\n",
       "    <tr>\n",
       "      <th>168</th>\n",
       "      <td>2022</td>\n",
       "      <td>Florida Panthers</td>\n",
       "      <td>0.744</td>\n",
       "      <td>REGULAR SEASON CHAMPION</td>\n",
       "    </tr>\n",
       "    <tr>\n",
       "      <th>169</th>\n",
       "      <td>2023</td>\n",
       "      <td>Boston Bruins</td>\n",
       "      <td>0.823</td>\n",
       "      <td>REGULAR SEASON CHAMPION</td>\n",
       "    </tr>\n",
       "    <tr>\n",
       "      <th>170</th>\n",
       "      <td>2024</td>\n",
       "      <td>New York Rangers</td>\n",
       "      <td>0.695</td>\n",
       "      <td>REGULAR SEASON CHAMPION</td>\n",
       "    </tr>\n",
       "  </tbody>\n",
       "</table>\n",
       "<p>168 rows × 4 columns</p>\n",
       "</div>"
      ],
      "text/plain": [
       "     YEAR                TEAM  POINTS %                     TYPE\n",
       "0    1968  Montreal Canadiens     0.635                   WINNER\n",
       "1    1969  Montreal Canadiens     0.678                   WINNER\n",
       "2    1970       Boston Bruins     0.651                   WINNER\n",
       "3    1971  Montreal Canadiens     0.622                   WINNER\n",
       "4    1972       Boston Bruins     0.763                   WINNER\n",
       "..    ...                 ...       ...                      ...\n",
       "166  2020       Boston Bruins     0.714  REGULAR SEASON CHAMPION\n",
       "167  2021  Colorado Avalanche     0.732  REGULAR SEASON CHAMPION\n",
       "168  2022    Florida Panthers     0.744  REGULAR SEASON CHAMPION\n",
       "169  2023       Boston Bruins     0.823  REGULAR SEASON CHAMPION\n",
       "170  2024    New York Rangers     0.695  REGULAR SEASON CHAMPION\n",
       "\n",
       "[168 rows x 4 columns]"
      ]
     },
     "execution_count": 50,
     "metadata": {},
     "output_type": "execute_result"
    }
   ],
   "source": [
    "New_df=df.dropna() #Remove the data for 2005. It should drop 3 rows.\n",
    "New_df"
   ]
  },
  {
   "cell_type": "markdown",
   "id": "3651f9e1-bdb3-48da-bc58-d054877b9f8f",
   "metadata": {},
   "source": [
    "## **Data Processing**"
   ]
  },
  {
   "cell_type": "code",
   "execution_count": 55,
   "id": "8fefc033-77fb-4cf3-b35d-d4d2fa11b625",
   "metadata": {
    "tags": []
   },
   "outputs": [
    {
     "data": {
      "text/html": [
       "\n",
       "        <iframe\n",
       "            width=\"100%\"\n",
       "            height=\"650\"\n",
       "            src=\"http://127.0.0.1:8050/\"\n",
       "            frameborder=\"0\"\n",
       "            allowfullscreen\n",
       "            \n",
       "        ></iframe>\n",
       "        "
      ],
      "text/plain": [
       "<IPython.lib.display.IFrame at 0x24fc64bd110>"
      ]
     },
     "metadata": {},
     "output_type": "display_data"
    }
   ],
   "source": [
    "app = Dash(__name__)\n",
    "\n",
    "Scatter_Plot = px.scatter(New_df, x='YEAR', y=\"POINTS %\", color=\"TYPE\", trendline=\"rolling\", trendline_options=dict(window=5),\n",
    "                title=\"Win Percentage of NHL Cup Finalists and Regular Season Champions. with 5-Year Rolling Average\", \n",
    "                hover_name=\"TEAM\", width=1200, height=800)\n",
    "\n",
    "app.layout = html.Div(children=[\n",
    "    html.H1(children='Hello Dash'),\n",
    "\n",
    "    html.Div(children='''\n",
    "        Dash: A web application framework for your data.\n",
    "    '''),\n",
    "\n",
    "    dcc.Graph(\n",
    "        id='example-graph',\n",
    "        figure=Scatter_Plot\n",
    "    )\n",
    "])\n",
    "\n",
    "if __name__ == '__main__':\n",
    "    app.run(debug=True)"
   ]
  },
  {
   "cell_type": "code",
   "execution_count": 57,
   "id": "0b6edef8-c630-453e-a4db-4331c4de01ff",
   "metadata": {
    "tags": []
   },
   "outputs": [
    {
     "data": {
      "application/vnd.plotly.v1+json": {
       "config": {
        "plotlyServerURL": "https://plot.ly"
       },
       "data": [
        {
         "hovertemplate": "<b>%{hovertext}</b><br><br>TYPE=WINNER<br>YEAR=%{x}<br>POINTS %=%{y}<extra></extra>",
         "hovertext": [
          "Montreal Canadiens",
          "Montreal Canadiens",
          "Boston Bruins",
          "Montreal Canadiens",
          "Boston Bruins",
          "Montreal Canadiens",
          "Philadelphia Flyers",
          "Philadelphia Flyers",
          "Montreal Canadiens",
          "Montreal Canadiens",
          "Montreal Canadiens",
          "Montreal Canadiens",
          "New York Islanders",
          "New York Islanders",
          "New York Islanders",
          "New York Islanders",
          "Edmonton Oilers",
          "Edmonton Oilers",
          "Montreal Canadiens",
          "Edmonton Oilers",
          "Edmonton Oilers",
          "Calgary Flames",
          "Edmonton Oilers",
          "Pittsburgh Penguins",
          "Pittsburgh Penguins",
          "Montreal Canadiens",
          "New York Rangers",
          "New Jersey Devils",
          "Colorado Avalanche",
          "Detroit Red Wings",
          "Detroit Red Wings",
          "Dallas Stars",
          "New Jersey Devils",
          "Colorado Avalanche",
          "Detroit Red Wings",
          "New Jersey Devils",
          "Tampa Bay Lightning",
          "Carolina Hurricanes",
          "Anaheim Ducks",
          "Detroit Red Wings",
          "Pittsburgh Penguins",
          "Chicago Blackhawks",
          "Boston Bruins",
          "LA Kings",
          "Chicago Blackhawks",
          "LA Kings",
          "Chicago Blackhawks",
          "Pittsburgh Penguins",
          "Pittsburgh Penguins",
          "Washington Capitals",
          "St. Louis Blues",
          "Tampa Bay Lightning",
          "Tampa Bay Lightning",
          "Colorado Avalanche",
          "Vegas Golden Knights",
          "Florida Panthers"
         ],
         "legendgroup": "WINNER",
         "marker": {
          "color": "#636efa",
          "symbol": "circle"
         },
         "mode": "markers",
         "name": "WINNER",
         "orientation": "v",
         "showlegend": true,
         "type": "scatter",
         "x": [
          1968,
          1969,
          1970,
          1971,
          1972,
          1973,
          1974,
          1975,
          1976,
          1977,
          1978,
          1979,
          1980,
          1981,
          1982,
          1983,
          1984,
          1985,
          1986,
          1987,
          1988,
          1989,
          1990,
          1991,
          1992,
          1993,
          1994,
          1995,
          1996,
          1997,
          1998,
          1999,
          2000,
          2001,
          2002,
          2003,
          2004,
          2006,
          2007,
          2008,
          2009,
          2010,
          2011,
          2012,
          2013,
          2014,
          2015,
          2016,
          2017,
          2018,
          2019,
          2020,
          2021,
          2022,
          2023,
          2024
         ],
         "xaxis": "x",
         "y": [
          0.635,
          0.678,
          0.651,
          0.622,
          0.763,
          0.769,
          0.718,
          0.706,
          0.794,
          0.825,
          0.806,
          0.719,
          0.569,
          0.688,
          0.738,
          0.6,
          0.744,
          0.681,
          0.544,
          0.663,
          0.619,
          0.731,
          0.563,
          0.55,
          0.544,
          0.607,
          0.667,
          0.542,
          0.634,
          0.573,
          0.628,
          0.695,
          0.628,
          0.72,
          0.707,
          0.659,
          0.646,
          0.683,
          0.671,
          0.701,
          0.604,
          0.683,
          0.628,
          0.579,
          0.802,
          0.61,
          0.622,
          0.634,
          0.677,
          0.64,
          0.604,
          0.657,
          0.67,
          0.726,
          0.677,
          0.671
         ],
         "yaxis": "y"
        },
        {
         "hovertemplate": "<b>Rolling mean trendline</b><br><br>TYPE=WINNER<br>YEAR=%{x}<br>POINTS %=%{y} <b>(trend)</b><extra></extra>",
         "legendgroup": "WINNER",
         "marker": {
          "color": "#636efa",
          "symbol": "circle"
         },
         "mode": "lines",
         "name": "WINNER",
         "showlegend": false,
         "type": "scatter",
         "x": [
          1968,
          1969,
          1970,
          1971,
          1972,
          1973,
          1974,
          1975,
          1976,
          1977,
          1978,
          1979,
          1980,
          1981,
          1982,
          1983,
          1984,
          1985,
          1986,
          1987,
          1988,
          1989,
          1990,
          1991,
          1992,
          1993,
          1994,
          1995,
          1996,
          1997,
          1998,
          1999,
          2000,
          2001,
          2002,
          2003,
          2004,
          2006,
          2007,
          2008,
          2009,
          2010,
          2011,
          2012,
          2013,
          2014,
          2015,
          2016,
          2017,
          2018,
          2019,
          2020,
          2021,
          2022,
          2023,
          2024
         ],
         "xaxis": "x",
         "y": [
          null,
          null,
          null,
          null,
          0.6698000000000001,
          0.6966000000000001,
          0.7045999999999999,
          0.7156,
          0.75,
          0.7624,
          0.7698,
          0.77,
          0.7426,
          0.7213999999999999,
          0.704,
          0.6628000000000001,
          0.6678,
          0.6902,
          0.6614,
          0.6464000000000001,
          0.6502000000000001,
          0.6476,
          0.624,
          0.6252,
          0.6014,
          0.599,
          0.5862,
          0.5820000000000001,
          0.5988,
          0.6046,
          0.6088,
          0.6144000000000001,
          0.6315999999999999,
          0.6487999999999999,
          0.6756,
          0.6818,
          0.6719999999999999,
          0.683,
          0.6732,
          0.6719999999999999,
          0.661,
          0.6684,
          0.6574,
          0.639,
          0.6592,
          0.6604,
          0.6482,
          0.6494,
          0.669,
          0.6366,
          0.6354,
          0.6424000000000001,
          0.6496000000000001,
          0.6594,
          0.6668000000000001,
          0.6801999999999999
         ],
         "yaxis": "y"
        },
        {
         "hovertemplate": "<b>%{hovertext}</b><br><br>TYPE=FINALIST<br>YEAR=%{x}<br>POINTS %=%{y}<extra></extra>",
         "hovertext": [
          "St. Louis Blues",
          "St. Louis Blues",
          "St. Louis Blues",
          "Chicago Blackhawks",
          "New York Rangers",
          "Chicago Blackhawks",
          "Boston Bruins",
          "Buffalo Sabres",
          "Philadelphia Flyers",
          "Boston Bruins",
          "Boston Bruins",
          "New York Rangers",
          "Philadelphia Flyers",
          "Minnesota North Stars",
          "Vancouver Canucks",
          "Edmonton Oilers",
          "New York Islanders",
          "Philadelphia Flyers",
          "Calgary Flames",
          "Philadelphia Flyers",
          "Boston Bruins",
          "Montreal Canadiens",
          "Boston Bruins",
          "Minnesota North Stars",
          "Chicago Blackhawks",
          "LA Kings",
          "Vancouver Canucks",
          "Detroit Red Wings",
          "Florida Panthers",
          "Philadelphia Flyers",
          "Washington Capitals",
          "Buffalo Sabres",
          "Dallas Stars",
          "New Jersey Devils",
          "Carolina Hurricanes",
          "Mighty Ducks of Anaheim",
          "Calgary Flames",
          "Edmonton Oilers",
          "Ottawa Senators",
          "Pittsburgh Penguins",
          "Detroit Red Wings",
          "Philadelphia Flyers",
          "Vancouver Canucks",
          "New Jersey Devils",
          "Boston Bruins",
          "New York Rangers",
          "Tampa Bay Lightning",
          "San Jose Sharks",
          "Nashville Predators",
          "Vegas Golden Knights",
          "Boston Bruins",
          "Dallas Stars",
          "Montreal Canadiens",
          "Tampa Bay Lightning",
          "Florida Panthers",
          "Edmonton Oilers"
         ],
         "legendgroup": "FINALIST",
         "marker": {
          "color": "#EF553B",
          "symbol": "circle"
         },
         "mode": "markers",
         "name": "FINALIST",
         "orientation": "v",
         "showlegend": true,
         "type": "scatter",
         "x": [
          1968,
          1969,
          1970,
          1971,
          1972,
          1973,
          1974,
          1975,
          1976,
          1977,
          1978,
          1979,
          1980,
          1981,
          1982,
          1983,
          1984,
          1985,
          1986,
          1987,
          1988,
          1989,
          1990,
          1991,
          1992,
          1993,
          1994,
          1995,
          1996,
          1997,
          1998,
          1999,
          2000,
          2001,
          2002,
          2003,
          2004,
          2006,
          2007,
          2008,
          2009,
          2010,
          2011,
          2012,
          2013,
          2014,
          2015,
          2016,
          2017,
          2018,
          2019,
          2020,
          2021,
          2022,
          2023,
          2024
         ],
         "xaxis": "x2",
         "y": [
          0.473,
          0.579,
          0.566,
          0.686,
          0.699,
          0.596,
          0.724,
          0.706,
          0.738,
          0.663,
          0.706,
          0.569,
          0.725,
          0.544,
          0.481,
          0.663,
          0.65,
          0.706,
          0.556,
          0.625,
          0.588,
          0.719,
          0.631,
          0.425,
          0.544,
          0.524,
          0.506,
          0.729,
          0.561,
          0.628,
          0.561,
          0.555,
          0.622,
          0.677,
          0.555,
          0.579,
          0.573,
          0.579,
          0.64,
          0.622,
          0.683,
          0.537,
          0.713,
          0.622,
          0.646,
          0.585,
          0.659,
          0.598,
          0.573,
          0.665,
          0.652,
          0.594,
          0.527,
          0.671,
          0.561,
          0.634
         ],
         "yaxis": "y2"
        },
        {
         "hovertemplate": "<b>Rolling mean trendline</b><br><br>TYPE=FINALIST<br>YEAR=%{x}<br>POINTS %=%{y} <b>(trend)</b><extra></extra>",
         "legendgroup": "FINALIST",
         "marker": {
          "color": "#EF553B",
          "symbol": "circle"
         },
         "mode": "lines",
         "name": "FINALIST",
         "showlegend": false,
         "type": "scatter",
         "x": [
          1968,
          1969,
          1970,
          1971,
          1972,
          1973,
          1974,
          1975,
          1976,
          1977,
          1978,
          1979,
          1980,
          1981,
          1982,
          1983,
          1984,
          1985,
          1986,
          1987,
          1988,
          1989,
          1990,
          1991,
          1992,
          1993,
          1994,
          1995,
          1996,
          1997,
          1998,
          1999,
          2000,
          2001,
          2002,
          2003,
          2004,
          2006,
          2007,
          2008,
          2009,
          2010,
          2011,
          2012,
          2013,
          2014,
          2015,
          2016,
          2017,
          2018,
          2019,
          2020,
          2021,
          2022,
          2023,
          2024
         ],
         "xaxis": "x2",
         "y": [
          null,
          null,
          null,
          null,
          0.6006,
          0.6252,
          0.6542,
          0.6822,
          0.6926,
          0.6854,
          0.7074,
          0.6763999999999999,
          0.6801999999999999,
          0.6414,
          0.605,
          0.5964,
          0.6126,
          0.6088,
          0.6112,
          0.64,
          0.625,
          0.6388,
          0.6237999999999999,
          0.5976,
          0.5814,
          0.5686,
          0.526,
          0.5456000000000001,
          0.5728000000000001,
          0.5896000000000001,
          0.5970000000000001,
          0.6068,
          0.5854,
          0.6086,
          0.5940000000000001,
          0.5976,
          0.6012,
          0.5926,
          0.5852,
          0.5986,
          0.6194,
          0.6122,
          0.639,
          0.6354,
          0.6402,
          0.6206,
          0.6449999999999999,
          0.6220000000000001,
          0.6122,
          0.616,
          0.6294,
          0.6164,
          0.6022000000000001,
          0.6218,
          0.601,
          0.5974
         ],
         "yaxis": "y2"
        },
        {
         "hovertemplate": "<b>%{hovertext}</b><br><br>TYPE=REGULAR SEASON CHAMPION<br>YEAR=%{x}<br>POINTS %=%{y}<extra></extra>",
         "hovertext": [
          "Montreal Canadiens",
          "Montreal Canadiens",
          "Chicago Blackhawks",
          "Boston Bruins",
          "Boston Bruins",
          "Montreal Canadiens",
          "Boston Bruins",
          "Philadelphia Flyers",
          "Montreal Canadiens",
          "Montreal Canadiens",
          "Montreal Canadiens",
          "New York Islanders",
          "Philadelphia Flyers",
          "New York Islanders",
          "New York Islanders",
          "Boston Bruins",
          "Edmonton Oilers",
          "Philadelphia Flyers",
          "Edmonton Oilers",
          "Edmonton Oilers",
          "Calgary Flames",
          "Calgary Flames",
          "Boston Bruins",
          "Chicago Blackhawks",
          "New York Rangers",
          "Pittsburgh Penguins",
          "New York Rangers",
          "Detroit Red Wings",
          "Detroit Red Wings",
          "Colorado Avalanche",
          "Dallas Stars",
          "Dallas Stars",
          "St Louis Blues",
          "Colorado Avalanche",
          "Detroit Red Wings",
          "Ottawa Senators",
          "Detroit Red Wings",
          "Detroit Red Wings",
          "Buffalo Sabres",
          "Detroit Red Wings",
          "San Jose Sharks",
          "Washington Capitals",
          "Vancouver Canucks",
          "Vancouver Canucks",
          "Chicago Blackhawks",
          "Boston Bruins",
          "New York Rangers",
          "Washington Capitals",
          "Washington Capitals",
          "Nashville Predators",
          "Tampa Bay Lightning",
          "Boston Bruins",
          "Colorado Avalanche",
          "Florida Panthers",
          "Boston Bruins",
          "New York Rangers"
         ],
         "legendgroup": "REGULAR SEASON CHAMPION",
         "marker": {
          "color": "#00cc96",
          "symbol": "circle"
         },
         "mode": "markers",
         "name": "REGULAR SEASON CHAMPION",
         "orientation": "v",
         "showlegend": true,
         "type": "scatter",
         "x": [
          1968,
          1969,
          1970,
          1971,
          1972,
          1973,
          1974,
          1975,
          1976,
          1977,
          1978,
          1979,
          1980,
          1981,
          1982,
          1983,
          1984,
          1985,
          1986,
          1987,
          1988,
          1989,
          1990,
          1991,
          1992,
          1993,
          1994,
          1995,
          1996,
          1997,
          1998,
          1999,
          2000,
          2001,
          2002,
          2003,
          2004,
          2006,
          2007,
          2008,
          2009,
          2010,
          2011,
          2012,
          2013,
          2014,
          2015,
          2016,
          2017,
          2018,
          2019,
          2020,
          2021,
          2022,
          2023,
          2024
         ],
         "xaxis": "x3",
         "y": [
          0.635,
          0.678,
          0.651,
          0.776,
          0.763,
          0.769,
          0.724,
          0.706,
          0.794,
          0.825,
          0.806,
          0.725,
          0.725,
          0.688,
          0.738,
          0.688,
          0.744,
          0.706,
          0.744,
          0.663,
          0.656,
          0.731,
          0.631,
          0.663,
          0.656,
          0.708,
          0.667,
          0.729,
          0.799,
          0.652,
          0.665,
          0.695,
          0.695,
          0.72,
          0.707,
          0.689,
          0.665,
          0.756,
          0.689,
          0.701,
          0.713,
          0.738,
          0.713,
          0.677,
          0.802,
          0.713,
          0.689,
          0.732,
          0.74,
          0.713,
          0.78,
          0.714,
          0.732,
          0.744,
          0.823,
          0.695
         ],
         "yaxis": "y3"
        },
        {
         "hovertemplate": "<b>Rolling mean trendline</b><br><br>TYPE=REGULAR SEASON CHAMPION<br>YEAR=%{x}<br>POINTS %=%{y} <b>(trend)</b><extra></extra>",
         "legendgroup": "REGULAR SEASON CHAMPION",
         "marker": {
          "color": "#00cc96",
          "symbol": "circle"
         },
         "mode": "lines",
         "name": "REGULAR SEASON CHAMPION",
         "showlegend": false,
         "type": "scatter",
         "x": [
          1968,
          1969,
          1970,
          1971,
          1972,
          1973,
          1974,
          1975,
          1976,
          1977,
          1978,
          1979,
          1980,
          1981,
          1982,
          1983,
          1984,
          1985,
          1986,
          1987,
          1988,
          1989,
          1990,
          1991,
          1992,
          1993,
          1994,
          1995,
          1996,
          1997,
          1998,
          1999,
          2000,
          2001,
          2002,
          2003,
          2004,
          2006,
          2007,
          2008,
          2009,
          2010,
          2011,
          2012,
          2013,
          2014,
          2015,
          2016,
          2017,
          2018,
          2019,
          2020,
          2021,
          2022,
          2023,
          2024
         ],
         "xaxis": "x3",
         "y": [
          null,
          null,
          null,
          null,
          0.7006,
          0.7274,
          0.7365999999999999,
          0.7476,
          0.7512,
          0.7636000000000001,
          0.771,
          0.7712,
          0.775,
          0.7538,
          0.7363999999999999,
          0.7127999999999999,
          0.7165999999999999,
          0.7128,
          0.724,
          0.709,
          0.7026,
          0.7,
          0.6849999999999999,
          0.6688000000000001,
          0.6674,
          0.6778000000000001,
          0.665,
          0.6846,
          0.7118,
          0.7110000000000001,
          0.7024,
          0.708,
          0.7012,
          0.6853999999999999,
          0.6964,
          0.7011999999999999,
          0.6952,
          0.7074,
          0.7012,
          0.7,
          0.7048,
          0.7194,
          0.7108,
          0.7084,
          0.7286,
          0.7285999999999999,
          0.7188,
          0.7226,
          0.7352,
          0.7173999999999999,
          0.7308,
          0.7358,
          0.7358,
          0.7365999999999999,
          0.7586,
          0.7415999999999999
         ],
         "yaxis": "y3"
        }
       ],
       "layout": {
        "annotations": [
         {
          "font": {},
          "showarrow": false,
          "text": "TYPE=WINNER",
          "x": 0.15999999999999998,
          "xanchor": "center",
          "xref": "paper",
          "y": 1,
          "yanchor": "bottom",
          "yref": "paper"
         },
         {
          "font": {},
          "showarrow": false,
          "text": "TYPE=FINALIST",
          "x": 0.49999999999999994,
          "xanchor": "center",
          "xref": "paper",
          "y": 1,
          "yanchor": "bottom",
          "yref": "paper"
         },
         {
          "font": {},
          "showarrow": false,
          "text": "TYPE=REGULAR SEASON CHAMPION",
          "x": 0.8399999999999999,
          "xanchor": "center",
          "xref": "paper",
          "y": 1,
          "yanchor": "bottom",
          "yref": "paper"
         }
        ],
        "height": 800,
        "legend": {
         "title": {
          "text": "TYPE"
         },
         "tracegroupgap": 0
        },
        "template": {
         "data": {
          "bar": [
           {
            "error_x": {
             "color": "#2a3f5f"
            },
            "error_y": {
             "color": "#2a3f5f"
            },
            "marker": {
             "line": {
              "color": "#E5ECF6",
              "width": 0.5
             },
             "pattern": {
              "fillmode": "overlay",
              "size": 10,
              "solidity": 0.2
             }
            },
            "type": "bar"
           }
          ],
          "barpolar": [
           {
            "marker": {
             "line": {
              "color": "#E5ECF6",
              "width": 0.5
             },
             "pattern": {
              "fillmode": "overlay",
              "size": 10,
              "solidity": 0.2
             }
            },
            "type": "barpolar"
           }
          ],
          "carpet": [
           {
            "aaxis": {
             "endlinecolor": "#2a3f5f",
             "gridcolor": "white",
             "linecolor": "white",
             "minorgridcolor": "white",
             "startlinecolor": "#2a3f5f"
            },
            "baxis": {
             "endlinecolor": "#2a3f5f",
             "gridcolor": "white",
             "linecolor": "white",
             "minorgridcolor": "white",
             "startlinecolor": "#2a3f5f"
            },
            "type": "carpet"
           }
          ],
          "choropleth": [
           {
            "colorbar": {
             "outlinewidth": 0,
             "ticks": ""
            },
            "type": "choropleth"
           }
          ],
          "contour": [
           {
            "colorbar": {
             "outlinewidth": 0,
             "ticks": ""
            },
            "colorscale": [
             [
              0,
              "#0d0887"
             ],
             [
              0.1111111111111111,
              "#46039f"
             ],
             [
              0.2222222222222222,
              "#7201a8"
             ],
             [
              0.3333333333333333,
              "#9c179e"
             ],
             [
              0.4444444444444444,
              "#bd3786"
             ],
             [
              0.5555555555555556,
              "#d8576b"
             ],
             [
              0.6666666666666666,
              "#ed7953"
             ],
             [
              0.7777777777777778,
              "#fb9f3a"
             ],
             [
              0.8888888888888888,
              "#fdca26"
             ],
             [
              1,
              "#f0f921"
             ]
            ],
            "type": "contour"
           }
          ],
          "contourcarpet": [
           {
            "colorbar": {
             "outlinewidth": 0,
             "ticks": ""
            },
            "type": "contourcarpet"
           }
          ],
          "heatmap": [
           {
            "colorbar": {
             "outlinewidth": 0,
             "ticks": ""
            },
            "colorscale": [
             [
              0,
              "#0d0887"
             ],
             [
              0.1111111111111111,
              "#46039f"
             ],
             [
              0.2222222222222222,
              "#7201a8"
             ],
             [
              0.3333333333333333,
              "#9c179e"
             ],
             [
              0.4444444444444444,
              "#bd3786"
             ],
             [
              0.5555555555555556,
              "#d8576b"
             ],
             [
              0.6666666666666666,
              "#ed7953"
             ],
             [
              0.7777777777777778,
              "#fb9f3a"
             ],
             [
              0.8888888888888888,
              "#fdca26"
             ],
             [
              1,
              "#f0f921"
             ]
            ],
            "type": "heatmap"
           }
          ],
          "heatmapgl": [
           {
            "colorbar": {
             "outlinewidth": 0,
             "ticks": ""
            },
            "colorscale": [
             [
              0,
              "#0d0887"
             ],
             [
              0.1111111111111111,
              "#46039f"
             ],
             [
              0.2222222222222222,
              "#7201a8"
             ],
             [
              0.3333333333333333,
              "#9c179e"
             ],
             [
              0.4444444444444444,
              "#bd3786"
             ],
             [
              0.5555555555555556,
              "#d8576b"
             ],
             [
              0.6666666666666666,
              "#ed7953"
             ],
             [
              0.7777777777777778,
              "#fb9f3a"
             ],
             [
              0.8888888888888888,
              "#fdca26"
             ],
             [
              1,
              "#f0f921"
             ]
            ],
            "type": "heatmapgl"
           }
          ],
          "histogram": [
           {
            "marker": {
             "pattern": {
              "fillmode": "overlay",
              "size": 10,
              "solidity": 0.2
             }
            },
            "type": "histogram"
           }
          ],
          "histogram2d": [
           {
            "colorbar": {
             "outlinewidth": 0,
             "ticks": ""
            },
            "colorscale": [
             [
              0,
              "#0d0887"
             ],
             [
              0.1111111111111111,
              "#46039f"
             ],
             [
              0.2222222222222222,
              "#7201a8"
             ],
             [
              0.3333333333333333,
              "#9c179e"
             ],
             [
              0.4444444444444444,
              "#bd3786"
             ],
             [
              0.5555555555555556,
              "#d8576b"
             ],
             [
              0.6666666666666666,
              "#ed7953"
             ],
             [
              0.7777777777777778,
              "#fb9f3a"
             ],
             [
              0.8888888888888888,
              "#fdca26"
             ],
             [
              1,
              "#f0f921"
             ]
            ],
            "type": "histogram2d"
           }
          ],
          "histogram2dcontour": [
           {
            "colorbar": {
             "outlinewidth": 0,
             "ticks": ""
            },
            "colorscale": [
             [
              0,
              "#0d0887"
             ],
             [
              0.1111111111111111,
              "#46039f"
             ],
             [
              0.2222222222222222,
              "#7201a8"
             ],
             [
              0.3333333333333333,
              "#9c179e"
             ],
             [
              0.4444444444444444,
              "#bd3786"
             ],
             [
              0.5555555555555556,
              "#d8576b"
             ],
             [
              0.6666666666666666,
              "#ed7953"
             ],
             [
              0.7777777777777778,
              "#fb9f3a"
             ],
             [
              0.8888888888888888,
              "#fdca26"
             ],
             [
              1,
              "#f0f921"
             ]
            ],
            "type": "histogram2dcontour"
           }
          ],
          "mesh3d": [
           {
            "colorbar": {
             "outlinewidth": 0,
             "ticks": ""
            },
            "type": "mesh3d"
           }
          ],
          "parcoords": [
           {
            "line": {
             "colorbar": {
              "outlinewidth": 0,
              "ticks": ""
             }
            },
            "type": "parcoords"
           }
          ],
          "pie": [
           {
            "automargin": true,
            "type": "pie"
           }
          ],
          "scatter": [
           {
            "fillpattern": {
             "fillmode": "overlay",
             "size": 10,
             "solidity": 0.2
            },
            "type": "scatter"
           }
          ],
          "scatter3d": [
           {
            "line": {
             "colorbar": {
              "outlinewidth": 0,
              "ticks": ""
             }
            },
            "marker": {
             "colorbar": {
              "outlinewidth": 0,
              "ticks": ""
             }
            },
            "type": "scatter3d"
           }
          ],
          "scattercarpet": [
           {
            "marker": {
             "colorbar": {
              "outlinewidth": 0,
              "ticks": ""
             }
            },
            "type": "scattercarpet"
           }
          ],
          "scattergeo": [
           {
            "marker": {
             "colorbar": {
              "outlinewidth": 0,
              "ticks": ""
             }
            },
            "type": "scattergeo"
           }
          ],
          "scattergl": [
           {
            "marker": {
             "colorbar": {
              "outlinewidth": 0,
              "ticks": ""
             }
            },
            "type": "scattergl"
           }
          ],
          "scattermapbox": [
           {
            "marker": {
             "colorbar": {
              "outlinewidth": 0,
              "ticks": ""
             }
            },
            "type": "scattermapbox"
           }
          ],
          "scatterpolar": [
           {
            "marker": {
             "colorbar": {
              "outlinewidth": 0,
              "ticks": ""
             }
            },
            "type": "scatterpolar"
           }
          ],
          "scatterpolargl": [
           {
            "marker": {
             "colorbar": {
              "outlinewidth": 0,
              "ticks": ""
             }
            },
            "type": "scatterpolargl"
           }
          ],
          "scatterternary": [
           {
            "marker": {
             "colorbar": {
              "outlinewidth": 0,
              "ticks": ""
             }
            },
            "type": "scatterternary"
           }
          ],
          "surface": [
           {
            "colorbar": {
             "outlinewidth": 0,
             "ticks": ""
            },
            "colorscale": [
             [
              0,
              "#0d0887"
             ],
             [
              0.1111111111111111,
              "#46039f"
             ],
             [
              0.2222222222222222,
              "#7201a8"
             ],
             [
              0.3333333333333333,
              "#9c179e"
             ],
             [
              0.4444444444444444,
              "#bd3786"
             ],
             [
              0.5555555555555556,
              "#d8576b"
             ],
             [
              0.6666666666666666,
              "#ed7953"
             ],
             [
              0.7777777777777778,
              "#fb9f3a"
             ],
             [
              0.8888888888888888,
              "#fdca26"
             ],
             [
              1,
              "#f0f921"
             ]
            ],
            "type": "surface"
           }
          ],
          "table": [
           {
            "cells": {
             "fill": {
              "color": "#EBF0F8"
             },
             "line": {
              "color": "white"
             }
            },
            "header": {
             "fill": {
              "color": "#C8D4E3"
             },
             "line": {
              "color": "white"
             }
            },
            "type": "table"
           }
          ]
         },
         "layout": {
          "annotationdefaults": {
           "arrowcolor": "#2a3f5f",
           "arrowhead": 0,
           "arrowwidth": 1
          },
          "autotypenumbers": "strict",
          "coloraxis": {
           "colorbar": {
            "outlinewidth": 0,
            "ticks": ""
           }
          },
          "colorscale": {
           "diverging": [
            [
             0,
             "#8e0152"
            ],
            [
             0.1,
             "#c51b7d"
            ],
            [
             0.2,
             "#de77ae"
            ],
            [
             0.3,
             "#f1b6da"
            ],
            [
             0.4,
             "#fde0ef"
            ],
            [
             0.5,
             "#f7f7f7"
            ],
            [
             0.6,
             "#e6f5d0"
            ],
            [
             0.7,
             "#b8e186"
            ],
            [
             0.8,
             "#7fbc41"
            ],
            [
             0.9,
             "#4d9221"
            ],
            [
             1,
             "#276419"
            ]
           ],
           "sequential": [
            [
             0,
             "#0d0887"
            ],
            [
             0.1111111111111111,
             "#46039f"
            ],
            [
             0.2222222222222222,
             "#7201a8"
            ],
            [
             0.3333333333333333,
             "#9c179e"
            ],
            [
             0.4444444444444444,
             "#bd3786"
            ],
            [
             0.5555555555555556,
             "#d8576b"
            ],
            [
             0.6666666666666666,
             "#ed7953"
            ],
            [
             0.7777777777777778,
             "#fb9f3a"
            ],
            [
             0.8888888888888888,
             "#fdca26"
            ],
            [
             1,
             "#f0f921"
            ]
           ],
           "sequentialminus": [
            [
             0,
             "#0d0887"
            ],
            [
             0.1111111111111111,
             "#46039f"
            ],
            [
             0.2222222222222222,
             "#7201a8"
            ],
            [
             0.3333333333333333,
             "#9c179e"
            ],
            [
             0.4444444444444444,
             "#bd3786"
            ],
            [
             0.5555555555555556,
             "#d8576b"
            ],
            [
             0.6666666666666666,
             "#ed7953"
            ],
            [
             0.7777777777777778,
             "#fb9f3a"
            ],
            [
             0.8888888888888888,
             "#fdca26"
            ],
            [
             1,
             "#f0f921"
            ]
           ]
          },
          "colorway": [
           "#636efa",
           "#EF553B",
           "#00cc96",
           "#ab63fa",
           "#FFA15A",
           "#19d3f3",
           "#FF6692",
           "#B6E880",
           "#FF97FF",
           "#FECB52"
          ],
          "font": {
           "color": "#2a3f5f"
          },
          "geo": {
           "bgcolor": "white",
           "lakecolor": "white",
           "landcolor": "#E5ECF6",
           "showlakes": true,
           "showland": true,
           "subunitcolor": "white"
          },
          "hoverlabel": {
           "align": "left"
          },
          "hovermode": "closest",
          "mapbox": {
           "style": "light"
          },
          "paper_bgcolor": "white",
          "plot_bgcolor": "#E5ECF6",
          "polar": {
           "angularaxis": {
            "gridcolor": "white",
            "linecolor": "white",
            "ticks": ""
           },
           "bgcolor": "#E5ECF6",
           "radialaxis": {
            "gridcolor": "white",
            "linecolor": "white",
            "ticks": ""
           }
          },
          "scene": {
           "xaxis": {
            "backgroundcolor": "#E5ECF6",
            "gridcolor": "white",
            "gridwidth": 2,
            "linecolor": "white",
            "showbackground": true,
            "ticks": "",
            "zerolinecolor": "white"
           },
           "yaxis": {
            "backgroundcolor": "#E5ECF6",
            "gridcolor": "white",
            "gridwidth": 2,
            "linecolor": "white",
            "showbackground": true,
            "ticks": "",
            "zerolinecolor": "white"
           },
           "zaxis": {
            "backgroundcolor": "#E5ECF6",
            "gridcolor": "white",
            "gridwidth": 2,
            "linecolor": "white",
            "showbackground": true,
            "ticks": "",
            "zerolinecolor": "white"
           }
          },
          "shapedefaults": {
           "line": {
            "color": "#2a3f5f"
           }
          },
          "ternary": {
           "aaxis": {
            "gridcolor": "white",
            "linecolor": "white",
            "ticks": ""
           },
           "baxis": {
            "gridcolor": "white",
            "linecolor": "white",
            "ticks": ""
           },
           "bgcolor": "#E5ECF6",
           "caxis": {
            "gridcolor": "white",
            "linecolor": "white",
            "ticks": ""
           }
          },
          "title": {
           "x": 0.05
          },
          "xaxis": {
           "automargin": true,
           "gridcolor": "white",
           "linecolor": "white",
           "ticks": "",
           "title": {
            "standoff": 15
           },
           "zerolinecolor": "white",
           "zerolinewidth": 2
          },
          "yaxis": {
           "automargin": true,
           "gridcolor": "white",
           "linecolor": "white",
           "ticks": "",
           "title": {
            "standoff": 15
           },
           "zerolinecolor": "white",
           "zerolinewidth": 2
          }
         }
        },
        "title": {
         "text": "Win Percentage of NHL Cup Finalists and Regular Season Champions. with 5-Year Rolling Average"
        },
        "width": 1200,
        "xaxis": {
         "anchor": "y",
         "autorange": true,
         "domain": [
          0,
          0.31999999999999995
         ],
         "range": [
          1963.9173952868682,
          2028.0826047131318
         ],
         "title": {
          "text": "YEAR"
         },
         "type": "linear"
        },
        "xaxis2": {
         "anchor": "y2",
         "autorange": true,
         "domain": [
          0.33999999999999997,
          0.6599999999999999
         ],
         "matches": "x",
         "range": [
          1963.9173952868682,
          2028.0826047131318
         ],
         "title": {
          "text": "YEAR"
         },
         "type": "linear"
        },
        "xaxis3": {
         "anchor": "y3",
         "autorange": true,
         "domain": [
          0.6799999999999999,
          0.9999999999999999
         ],
         "matches": "x",
         "range": [
          1963.9173952868682,
          2028.0826047131318
         ],
         "title": {
          "text": "YEAR"
         },
         "type": "linear"
        },
        "yaxis": {
         "anchor": "x",
         "autorange": true,
         "domain": [
          0,
          1
         ],
         "range": [
          0.39975022706630337,
          0.8502497729336966
         ],
         "title": {
          "text": "POINTS %"
         },
         "type": "linear"
        },
        "yaxis2": {
         "anchor": "x2",
         "autorange": true,
         "domain": [
          0,
          1
         ],
         "matches": "y",
         "range": [
          0.39975022706630337,
          0.8502497729336966
         ],
         "showticklabels": false,
         "type": "linear"
        },
        "yaxis3": {
         "anchor": "x3",
         "autorange": true,
         "domain": [
          0,
          1
         ],
         "matches": "y",
         "range": [
          0.39975022706630337,
          0.8502497729336966
         ],
         "showticklabels": false,
         "type": "linear"
        }
       }
      },
      "image/png": "[encoded data removed]",
      "text/html": [
       "<div>                            <div id=\"54798b9a-6d92-40a3-8d34-08d887997f86\" class=\"plotly-graph-div\" style=\"height:800px; width:1200px;\"></div>            <script type=\"text/javascript\">                require([\"plotly\"], function(Plotly) {                    window.PLOTLYENV=window.PLOTLYENV || {};                                    if (document.getElementById(\"54798b9a-6d92-40a3-8d34-08d887997f86\")) {                    Plotly.newPlot(                        \"54798b9a-6d92-40a3-8d34-08d887997f86\",                        [{\"hovertemplate\":\"<b>%{hovertext}</b><br><br>TYPE=WINNER<br>YEAR=%{x}<br>POINTS %=%{y}<extra></extra>\",\"hovertext\":[\"Montreal Canadiens\",\"Montreal Canadiens\",\"Boston Bruins\",\"Montreal Canadiens\",\"Boston Bruins\",\"Montreal Canadiens\",\"Philadelphia Flyers\",\"Philadelphia Flyers\",\"Montreal Canadiens\",\"Montreal Canadiens\",\"Montreal Canadiens\",\"Montreal Canadiens\",\"New York Islanders\",\"New York Islanders\",\"New York Islanders\",\"New York Islanders\",\"Edmonton Oilers\",\"Edmonton Oilers\",\"Montreal Canadiens\",\"Edmonton Oilers\",\"Edmonton Oilers\",\"Calgary Flames\",\"Edmonton Oilers\",\"Pittsburgh Penguins\",\"Pittsburgh Penguins\",\"Montreal Canadiens\",\"New York Rangers\",\"New Jersey Devils\",\"Colorado Avalanche\",\"Detroit Red Wings\",\"Detroit Red Wings\",\"Dallas Stars\",\"New Jersey Devils\",\"Colorado Avalanche\",\"Detroit Red Wings\",\"New Jersey Devils\",\"Tampa Bay Lightning\",\"Carolina Hurricanes\",\"Anaheim Ducks\",\"Detroit Red Wings\",\"Pittsburgh Penguins\",\"Chicago Blackhawks\",\"Boston Bruins\",\"LA Kings\",\"Chicago Blackhawks\",\"LA Kings\",\"Chicago Blackhawks\",\"Pittsburgh Penguins\",\"Pittsburgh Penguins\",\"Washington Capitals\",\"St. Louis Blues\",\"Tampa Bay Lightning\",\"Tampa Bay Lightning\",\"Colorado Avalanche\",\"Vegas Golden Knights\",\"Florida Panthers\"],\"legendgroup\":\"WINNER\",\"marker\":{\"color\":\"#636efa\",\"symbol\":\"circle\"},\"mode\":\"markers\",\"name\":\"WINNER\",\"orientation\":\"v\",\"showlegend\":true,\"x\":[1968,1969,1970,1971,1972,1973,1974,1975,1976,1977,1978,1979,1980,1981,1982,1983,1984,1985,1986,1987,1988,1989,1990,1991,1992,1993,1994,1995,1996,1997,1998,1999,2000,2001,2002,2003,2004,2006,2007,2008,2009,2010,2011,2012,2013,2014,2015,2016,2017,2018,2019,2020,2021,2022,2023,2024],\"xaxis\":\"x\",\"y\":[0.635,0.678,0.651,0.622,0.763,0.769,0.718,0.706,0.794,0.825,0.806,0.719,0.569,0.688,0.738,0.6,0.744,0.681,0.544,0.663,0.619,0.731,0.563,0.55,0.544,0.607,0.667,0.542,0.634,0.573,0.628,0.695,0.628,0.72,0.707,0.659,0.646,0.683,0.671,0.701,0.604,0.683,0.628,0.579,0.802,0.61,0.622,0.634,0.677,0.64,0.604,0.657,0.67,0.726,0.677,0.671],\"yaxis\":\"y\",\"type\":\"scatter\"},{\"hovertemplate\":\"<b>Rolling mean trendline</b><br><br>TYPE=WINNER<br>YEAR=%{x}<br>POINTS %=%{y} <b>(trend)</b><extra></extra>\",\"legendgroup\":\"WINNER\",\"marker\":{\"color\":\"#636efa\",\"symbol\":\"circle\"},\"mode\":\"lines\",\"name\":\"WINNER\",\"showlegend\":false,\"x\":[1968,1969,1970,1971,1972,1973,1974,1975,1976,1977,1978,1979,1980,1981,1982,1983,1984,1985,1986,1987,1988,1989,1990,1991,1992,1993,1994,1995,1996,1997,1998,1999,2000,2001,2002,2003,2004,2006,2007,2008,2009,2010,2011,2012,2013,2014,2015,2016,2017,2018,2019,2020,2021,2022,2023,2024],\"xaxis\":\"x\",\"y\":[null,null,null,null,0.6698000000000001,0.6966000000000001,0.7045999999999999,0.7156,0.75,0.7624,0.7698,0.77,0.7426,0.7213999999999999,0.704,0.6628000000000001,0.6678,0.6902,0.6614,0.6464000000000001,0.6502000000000001,0.6476,0.624,0.6252,0.6014,0.599,0.5862,0.5820000000000001,0.5988,0.6046,0.6088,0.6144000000000001,0.6315999999999999,0.6487999999999999,0.6756,0.6818,0.6719999999999999,0.683,0.6732,0.6719999999999999,0.661,0.6684,0.6574,0.639,0.6592,0.6604,0.6482,0.6494,0.669,0.6366,0.6354,0.6424000000000001,0.6496000000000001,0.6594,0.6668000000000001,0.6801999999999999],\"yaxis\":\"y\",\"type\":\"scatter\"},{\"hovertemplate\":\"<b>%{hovertext}</b><br><br>TYPE=FINALIST<br>YEAR=%{x}<br>POINTS %=%{y}<extra></extra>\",\"hovertext\":[\"St. Louis Blues\",\"St. Louis Blues\",\"St. Louis Blues\",\"Chicago Blackhawks\",\"New York Rangers\",\"Chicago Blackhawks\",\"Boston Bruins\",\"Buffalo Sabres\",\"Philadelphia Flyers\",\"Boston Bruins\",\"Boston Bruins\",\"New York Rangers\",\"Philadelphia Flyers\",\"Minnesota North Stars\",\"Vancouver Canucks\",\"Edmonton Oilers\",\"New York Islanders\",\"Philadelphia Flyers\",\"Calgary Flames\",\"Philadelphia Flyers\",\"Boston Bruins\",\"Montreal Canadiens\",\"Boston Bruins\",\"Minnesota North Stars\",\"Chicago Blackhawks\",\"LA Kings\",\"Vancouver Canucks\",\"Detroit Red Wings\",\"Florida Panthers\",\"Philadelphia Flyers\",\"Washington Capitals\",\"Buffalo Sabres\",\"Dallas Stars\",\"New Jersey Devils\",\"Carolina Hurricanes\",\"Mighty Ducks of Anaheim\",\"Calgary Flames\",\"Edmonton Oilers\",\"Ottawa Senators\",\"Pittsburgh Penguins\",\"Detroit Red Wings\",\"Philadelphia Flyers\",\"Vancouver Canucks\",\"New Jersey Devils\",\"Boston Bruins\",\"New York Rangers\",\"Tampa Bay Lightning\",\"San Jose Sharks\",\"Nashville Predators\",\"Vegas Golden Knights\",\"Boston Bruins\",\"Dallas Stars\",\"Montreal Canadiens\",\"Tampa Bay Lightning\",\"Florida Panthers\",\"Edmonton Oilers\"],\"legendgroup\":\"FINALIST\",\"marker\":{\"color\":\"#EF553B\",\"symbol\":\"circle\"},\"mode\":\"markers\",\"name\":\"FINALIST\",\"orientation\":\"v\",\"showlegend\":true,\"x\":[1968,1969,1970,1971,1972,1973,1974,1975,1976,1977,1978,1979,1980,1981,1982,1983,1984,1985,1986,1987,1988,1989,1990,1991,1992,1993,1994,1995,1996,1997,1998,1999,2000,2001,2002,2003,2004,2006,2007,2008,2009,2010,2011,2012,2013,2014,2015,2016,2017,2018,2019,2020,2021,2022,2023,2024],\"xaxis\":\"x2\",\"y\":[0.473,0.579,0.566,0.686,0.699,0.596,0.724,0.706,0.738,0.663,0.706,0.569,0.725,0.544,0.481,0.663,0.65,0.706,0.556,0.625,0.588,0.719,0.631,0.425,0.544,0.524,0.506,0.729,0.561,0.628,0.561,0.555,0.622,0.677,0.555,0.579,0.573,0.579,0.64,0.622,0.683,0.537,0.713,0.622,0.646,0.585,0.659,0.598,0.573,0.665,0.652,0.594,0.527,0.671,0.561,0.634],\"yaxis\":\"y2\",\"type\":\"scatter\"},{\"hovertemplate\":\"<b>Rolling mean trendline</b><br><br>TYPE=FINALIST<br>YEAR=%{x}<br>POINTS %=%{y} <b>(trend)</b><extra></extra>\",\"legendgroup\":\"FINALIST\",\"marker\":{\"color\":\"#EF553B\",\"symbol\":\"circle\"},\"mode\":\"lines\",\"name\":\"FINALIST\",\"showlegend\":false,\"x\":[1968,1969,1970,1971,1972,1973,1974,1975,1976,1977,1978,1979,1980,1981,1982,1983,1984,1985,1986,1987,1988,1989,1990,1991,1992,1993,1994,1995,1996,1997,1998,1999,2000,2001,2002,2003,2004,2006,2007,2008,2009,2010,2011,2012,2013,2014,2015,2016,2017,2018,2019,2020,2021,2022,2023,2024],\"xaxis\":\"x2\",\"y\":[null,null,null,null,0.6006,0.6252,0.6542,0.6822,0.6926,0.6854,0.7074,0.6763999999999999,0.6801999999999999,0.6414,0.605,0.5964,0.6126,0.6088,0.6112,0.64,0.625,0.6388,0.6237999999999999,0.5976,0.5814,0.5686,0.526,0.5456000000000001,0.5728000000000001,0.5896000000000001,0.5970000000000001,0.6068,0.5854,0.6086,0.5940000000000001,0.5976,0.6012,0.5926,0.5852,0.5986,0.6194,0.6122,0.639,0.6354,0.6402,0.6206,0.6449999999999999,0.6220000000000001,0.6122,0.616,0.6294,0.6164,0.6022000000000001,0.6218,0.601,0.5974],\"yaxis\":\"y2\",\"type\":\"scatter\"},{\"hovertemplate\":\"<b>%{hovertext}</b><br><br>TYPE=REGULAR SEASON CHAMPION<br>YEAR=%{x}<br>POINTS %=%{y}<extra></extra>\",\"hovertext\":[\"Montreal Canadiens\",\"Montreal Canadiens\",\"Chicago Blackhawks\",\"Boston Bruins\",\"Boston Bruins\",\"Montreal Canadiens\",\"Boston Bruins\",\"Philadelphia Flyers\",\"Montreal Canadiens\",\"Montreal Canadiens\",\"Montreal Canadiens\",\"New York Islanders\",\"Philadelphia Flyers\",\"New York Islanders\",\"New York Islanders\",\"Boston Bruins\",\"Edmonton Oilers\",\"Philadelphia Flyers\",\"Edmonton Oilers\",\"Edmonton Oilers\",\"Calgary Flames\",\"Calgary Flames\",\"Boston Bruins\",\"Chicago Blackhawks\",\"New York Rangers\",\"Pittsburgh Penguins\",\"New York Rangers\",\"Detroit Red Wings\",\"Detroit Red Wings\",\"Colorado Avalanche\",\"Dallas Stars\",\"Dallas Stars\",\"St Louis Blues\",\"Colorado Avalanche\",\"Detroit Red Wings\",\"Ottawa Senators\",\"Detroit Red Wings\",\"Detroit Red Wings\",\"Buffalo Sabres\",\"Detroit Red Wings\",\"San Jose Sharks\",\"Washington Capitals\",\"Vancouver Canucks\",\"Vancouver Canucks\",\"Chicago Blackhawks\",\"Boston Bruins\",\"New York Rangers\",\"Washington Capitals\",\"Washington Capitals\",\"Nashville Predators\",\"Tampa Bay Lightning\",\"Boston Bruins\",\"Colorado Avalanche\",\"Florida Panthers\",\"Boston Bruins\",\"New York Rangers\"],\"legendgroup\":\"REGULAR SEASON CHAMPION\",\"marker\":{\"color\":\"#00cc96\",\"symbol\":\"circle\"},\"mode\":\"markers\",\"name\":\"REGULAR SEASON CHAMPION\",\"orientation\":\"v\",\"showlegend\":true,\"x\":[1968,1969,1970,1971,1972,1973,1974,1975,1976,1977,1978,1979,1980,1981,1982,1983,1984,1985,1986,1987,1988,1989,1990,1991,1992,1993,1994,1995,1996,1997,1998,1999,2000,2001,2002,2003,2004,2006,2007,2008,2009,2010,2011,2012,2013,2014,2015,2016,2017,2018,2019,2020,2021,2022,2023,2024],\"xaxis\":\"x3\",\"y\":[0.635,0.678,0.651,0.776,0.763,0.769,0.724,0.706,0.794,0.825,0.806,0.725,0.725,0.688,0.738,0.688,0.744,0.706,0.744,0.663,0.656,0.731,0.631,0.663,0.656,0.708,0.667,0.729,0.799,0.652,0.665,0.695,0.695,0.72,0.707,0.689,0.665,0.756,0.689,0.701,0.713,0.738,0.713,0.677,0.802,0.713,0.689,0.732,0.74,0.713,0.78,0.714,0.732,0.744,0.823,0.695],\"yaxis\":\"y3\",\"type\":\"scatter\"},{\"hovertemplate\":\"<b>Rolling mean trendline</b><br><br>TYPE=REGULAR SEASON CHAMPION<br>YEAR=%{x}<br>POINTS %=%{y} <b>(trend)</b><extra></extra>\",\"legendgroup\":\"REGULAR SEASON CHAMPION\",\"marker\":{\"color\":\"#00cc96\",\"symbol\":\"circle\"},\"mode\":\"lines\",\"name\":\"REGULAR SEASON CHAMPION\",\"showlegend\":false,\"x\":[1968,1969,1970,1971,1972,1973,1974,1975,1976,1977,1978,1979,1980,1981,1982,1983,1984,1985,1986,1987,1988,1989,1990,1991,1992,1993,1994,1995,1996,1997,1998,1999,2000,2001,2002,2003,2004,2006,2007,2008,2009,2010,2011,2012,2013,2014,2015,2016,2017,2018,2019,2020,2021,2022,2023,2024],\"xaxis\":\"x3\",\"y\":[null,null,null,null,0.7006,0.7274,0.7365999999999999,0.7476,0.7512,0.7636000000000001,0.771,0.7712,0.775,0.7538,0.7363999999999999,0.7127999999999999,0.7165999999999999,0.7128,0.724,0.709,0.7026,0.7,0.6849999999999999,0.6688000000000001,0.6674,0.6778000000000001,0.665,0.6846,0.7118,0.7110000000000001,0.7024,0.708,0.7012,0.6853999999999999,0.6964,0.7011999999999999,0.6952,0.7074,0.7012,0.7,0.7048,0.7194,0.7108,0.7084,0.7286,0.7285999999999999,0.7188,0.7226,0.7352,0.7173999999999999,0.7308,0.7358,0.7358,0.7365999999999999,0.7586,0.7415999999999999],\"yaxis\":\"y3\",\"type\":\"scatter\"}],                        {\"template\":{\"data\":{\"histogram2dcontour\":[{\"type\":\"histogram2dcontour\",\"colorbar\":{\"outlinewidth\":0,\"ticks\":\"\"},\"colorscale\":[[0.0,\"#0d0887\"],[0.1111111111111111,\"#46039f\"],[0.2222222222222222,\"#7201a8\"],[0.3333333333333333,\"#9c179e\"],[0.4444444444444444,\"#bd3786\"],[0.5555555555555556,\"#d8576b\"],[0.6666666666666666,\"#ed7953\"],[0.7777777777777778,\"#fb9f3a\"],[0.8888888888888888,\"#fdca26\"],[1.0,\"#f0f921\"]]}],\"choropleth\":[{\"type\":\"choropleth\",\"colorbar\":{\"outlinewidth\":0,\"ticks\":\"\"}}],\"histogram2d\":[{\"type\":\"histogram2d\",\"colorbar\":{\"outlinewidth\":0,\"ticks\":\"\"},\"colorscale\":[[0.0,\"#0d0887\"],[0.1111111111111111,\"#46039f\"],[0.2222222222222222,\"#7201a8\"],[0.3333333333333333,\"#9c179e\"],[0.4444444444444444,\"#bd3786\"],[0.5555555555555556,\"#d8576b\"],[0.6666666666666666,\"#ed7953\"],[0.7777777777777778,\"#fb9f3a\"],[0.8888888888888888,\"#fdca26\"],[1.0,\"#f0f921\"]]}],\"heatmap\":[{\"type\":\"heatmap\",\"colorbar\":{\"outlinewidth\":0,\"ticks\":\"\"},\"colorscale\":[[0.0,\"#0d0887\"],[0.1111111111111111,\"#46039f\"],[0.2222222222222222,\"#7201a8\"],[0.3333333333333333,\"#9c179e\"],[0.4444444444444444,\"#bd3786\"],[0.5555555555555556,\"#d8576b\"],[0.6666666666666666,\"#ed7953\"],[0.7777777777777778,\"#fb9f3a\"],[0.8888888888888888,\"#fdca26\"],[1.0,\"#f0f921\"]]}],\"heatmapgl\":[{\"type\":\"heatmapgl\",\"colorbar\":{\"outlinewidth\":0,\"ticks\":\"\"},\"colorscale\":[[0.0,\"#0d0887\"],[0.1111111111111111,\"#46039f\"],[0.2222222222222222,\"#7201a8\"],[0.3333333333333333,\"#9c179e\"],[0.4444444444444444,\"#bd3786\"],[0.5555555555555556,\"#d8576b\"],[0.6666666666666666,\"#ed7953\"],[0.7777777777777778,\"#fb9f3a\"],[0.8888888888888888,\"#fdca26\"],[1.0,\"#f0f921\"]]}],\"contourcarpet\":[{\"type\":\"contourcarpet\",\"colorbar\":{\"outlinewidth\":0,\"ticks\":\"\"}}],\"contour\":[{\"type\":\"contour\",\"colorbar\":{\"outlinewidth\":0,\"ticks\":\"\"},\"colorscale\":[[0.0,\"#0d0887\"],[0.1111111111111111,\"#46039f\"],[0.2222222222222222,\"#7201a8\"],[0.3333333333333333,\"#9c179e\"],[0.4444444444444444,\"#bd3786\"],[0.5555555555555556,\"#d8576b\"],[0.6666666666666666,\"#ed7953\"],[0.7777777777777778,\"#fb9f3a\"],[0.8888888888888888,\"#fdca26\"],[1.0,\"#f0f921\"]]}],\"surface\":[{\"type\":\"surface\",\"colorbar\":{\"outlinewidth\":0,\"ticks\":\"\"},\"colorscale\":[[0.0,\"#0d0887\"],[0.1111111111111111,\"#46039f\"],[0.2222222222222222,\"#7201a8\"],[0.3333333333333333,\"#9c179e\"],[0.4444444444444444,\"#bd3786\"],[0.5555555555555556,\"#d8576b\"],[0.6666666666666666,\"#ed7953\"],[0.7777777777777778,\"#fb9f3a\"],[0.8888888888888888,\"#fdca26\"],[1.0,\"#f0f921\"]]}],\"mesh3d\":[{\"type\":\"mesh3d\",\"colorbar\":{\"outlinewidth\":0,\"ticks\":\"\"}}],\"scatter\":[{\"fillpattern\":{\"fillmode\":\"overlay\",\"size\":10,\"solidity\":0.2},\"type\":\"scatter\"}],\"parcoords\":[{\"type\":\"parcoords\",\"line\":{\"colorbar\":{\"outlinewidth\":0,\"ticks\":\"\"}}}],\"scatterpolargl\":[{\"type\":\"scatterpolargl\",\"marker\":{\"colorbar\":{\"outlinewidth\":0,\"ticks\":\"\"}}}],\"bar\":[{\"error_x\":{\"color\":\"#2a3f5f\"},\"error_y\":{\"color\":\"#2a3f5f\"},\"marker\":{\"line\":{\"color\":\"#E5ECF6\",\"width\":0.5},\"pattern\":{\"fillmode\":\"overlay\",\"size\":10,\"solidity\":0.2}},\"type\":\"bar\"}],\"scattergeo\":[{\"type\":\"scattergeo\",\"marker\":{\"colorbar\":{\"outlinewidth\":0,\"ticks\":\"\"}}}],\"scatterpolar\":[{\"type\":\"scatterpolar\",\"marker\":{\"colorbar\":{\"outlinewidth\":0,\"ticks\":\"\"}}}],\"histogram\":[{\"marker\":{\"pattern\":{\"fillmode\":\"overlay\",\"size\":10,\"solidity\":0.2}},\"type\":\"histogram\"}],\"scattergl\":[{\"type\":\"scattergl\",\"marker\":{\"colorbar\":{\"outlinewidth\":0,\"ticks\":\"\"}}}],\"scatter3d\":[{\"type\":\"scatter3d\",\"line\":{\"colorbar\":{\"outlinewidth\":0,\"ticks\":\"\"}},\"marker\":{\"colorbar\":{\"outlinewidth\":0,\"ticks\":\"\"}}}],\"scattermapbox\":[{\"type\":\"scattermapbox\",\"marker\":{\"colorbar\":{\"outlinewidth\":0,\"ticks\":\"\"}}}],\"scatterternary\":[{\"type\":\"scatterternary\",\"marker\":{\"colorbar\":{\"outlinewidth\":0,\"ticks\":\"\"}}}],\"scattercarpet\":[{\"type\":\"scattercarpet\",\"marker\":{\"colorbar\":{\"outlinewidth\":0,\"ticks\":\"\"}}}],\"carpet\":[{\"aaxis\":{\"endlinecolor\":\"#2a3f5f\",\"gridcolor\":\"white\",\"linecolor\":\"white\",\"minorgridcolor\":\"white\",\"startlinecolor\":\"#2a3f5f\"},\"baxis\":{\"endlinecolor\":\"#2a3f5f\",\"gridcolor\":\"white\",\"linecolor\":\"white\",\"minorgridcolor\":\"white\",\"startlinecolor\":\"#2a3f5f\"},\"type\":\"carpet\"}],\"table\":[{\"cells\":{\"fill\":{\"color\":\"#EBF0F8\"},\"line\":{\"color\":\"white\"}},\"header\":{\"fill\":{\"color\":\"#C8D4E3\"},\"line\":{\"color\":\"white\"}},\"type\":\"table\"}],\"barpolar\":[{\"marker\":{\"line\":{\"color\":\"#E5ECF6\",\"width\":0.5},\"pattern\":{\"fillmode\":\"overlay\",\"size\":10,\"solidity\":0.2}},\"type\":\"barpolar\"}],\"pie\":[{\"automargin\":true,\"type\":\"pie\"}]},\"layout\":{\"autotypenumbers\":\"strict\",\"colorway\":[\"#636efa\",\"#EF553B\",\"#00cc96\",\"#ab63fa\",\"#FFA15A\",\"#19d3f3\",\"#FF6692\",\"#B6E880\",\"#FF97FF\",\"#FECB52\"],\"font\":{\"color\":\"#2a3f5f\"},\"hovermode\":\"closest\",\"hoverlabel\":{\"align\":\"left\"},\"paper_bgcolor\":\"white\",\"plot_bgcolor\":\"#E5ECF6\",\"polar\":{\"bgcolor\":\"#E5ECF6\",\"angularaxis\":{\"gridcolor\":\"white\",\"linecolor\":\"white\",\"ticks\":\"\"},\"radialaxis\":{\"gridcolor\":\"white\",\"linecolor\":\"white\",\"ticks\":\"\"}},\"ternary\":{\"bgcolor\":\"#E5ECF6\",\"aaxis\":{\"gridcolor\":\"white\",\"linecolor\":\"white\",\"ticks\":\"\"},\"baxis\":{\"gridcolor\":\"white\",\"linecolor\":\"white\",\"ticks\":\"\"},\"caxis\":{\"gridcolor\":\"white\",\"linecolor\":\"white\",\"ticks\":\"\"}},\"coloraxis\":{\"colorbar\":{\"outlinewidth\":0,\"ticks\":\"\"}},\"colorscale\":{\"sequential\":[[0.0,\"#0d0887\"],[0.1111111111111111,\"#46039f\"],[0.2222222222222222,\"#7201a8\"],[0.3333333333333333,\"#9c179e\"],[0.4444444444444444,\"#bd3786\"],[0.5555555555555556,\"#d8576b\"],[0.6666666666666666,\"#ed7953\"],[0.7777777777777778,\"#fb9f3a\"],[0.8888888888888888,\"#fdca26\"],[1.0,\"#f0f921\"]],\"sequentialminus\":[[0.0,\"#0d0887\"],[0.1111111111111111,\"#46039f\"],[0.2222222222222222,\"#7201a8\"],[0.3333333333333333,\"#9c179e\"],[0.4444444444444444,\"#bd3786\"],[0.5555555555555556,\"#d8576b\"],[0.6666666666666666,\"#ed7953\"],[0.7777777777777778,\"#fb9f3a\"],[0.8888888888888888,\"#fdca26\"],[1.0,\"#f0f921\"]],\"diverging\":[[0,\"#8e0152\"],[0.1,\"#c51b7d\"],[0.2,\"#de77ae\"],[0.3,\"#f1b6da\"],[0.4,\"#fde0ef\"],[0.5,\"#f7f7f7\"],[0.6,\"#e6f5d0\"],[0.7,\"#b8e186\"],[0.8,\"#7fbc41\"],[0.9,\"#4d9221\"],[1,\"#276419\"]]},\"xaxis\":{\"gridcolor\":\"white\",\"linecolor\":\"white\",\"ticks\":\"\",\"title\":{\"standoff\":15},\"zerolinecolor\":\"white\",\"automargin\":true,\"zerolinewidth\":2},\"yaxis\":{\"gridcolor\":\"white\",\"linecolor\":\"white\",\"ticks\":\"\",\"title\":{\"standoff\":15},\"zerolinecolor\":\"white\",\"automargin\":true,\"zerolinewidth\":2},\"scene\":{\"xaxis\":{\"backgroundcolor\":\"#E5ECF6\",\"gridcolor\":\"white\",\"linecolor\":\"white\",\"showbackground\":true,\"ticks\":\"\",\"zerolinecolor\":\"white\",\"gridwidth\":2},\"yaxis\":{\"backgroundcolor\":\"#E5ECF6\",\"gridcolor\":\"white\",\"linecolor\":\"white\",\"showbackground\":true,\"ticks\":\"\",\"zerolinecolor\":\"white\",\"gridwidth\":2},\"zaxis\":{\"backgroundcolor\":\"#E5ECF6\",\"gridcolor\":\"white\",\"linecolor\":\"white\",\"showbackground\":true,\"ticks\":\"\",\"zerolinecolor\":\"white\",\"gridwidth\":2}},\"shapedefaults\":{\"line\":{\"color\":\"#2a3f5f\"}},\"annotationdefaults\":{\"arrowcolor\":\"#2a3f5f\",\"arrowhead\":0,\"arrowwidth\":1},\"geo\":{\"bgcolor\":\"white\",\"landcolor\":\"#E5ECF6\",\"subunitcolor\":\"white\",\"showland\":true,\"showlakes\":true,\"lakecolor\":\"white\"},\"title\":{\"x\":0.05},\"mapbox\":{\"style\":\"light\"}}},\"xaxis\":{\"anchor\":\"y\",\"domain\":[0.0,0.31999999999999995],\"title\":{\"text\":\"YEAR\"}},\"yaxis\":{\"anchor\":\"x\",\"domain\":[0.0,1.0],\"title\":{\"text\":\"POINTS %\"}},\"xaxis2\":{\"anchor\":\"y2\",\"domain\":[0.33999999999999997,0.6599999999999999],\"matches\":\"x\",\"title\":{\"text\":\"YEAR\"}},\"yaxis2\":{\"anchor\":\"x2\",\"domain\":[0.0,1.0],\"matches\":\"y\",\"showticklabels\":false},\"xaxis3\":{\"anchor\":\"y3\",\"domain\":[0.6799999999999999,0.9999999999999999],\"matches\":\"x\",\"title\":{\"text\":\"YEAR\"}},\"yaxis3\":{\"anchor\":\"x3\",\"domain\":[0.0,1.0],\"matches\":\"y\",\"showticklabels\":false},\"annotations\":[{\"font\":{},\"showarrow\":false,\"text\":\"TYPE=WINNER\",\"x\":0.15999999999999998,\"xanchor\":\"center\",\"xref\":\"paper\",\"y\":1.0,\"yanchor\":\"bottom\",\"yref\":\"paper\"},{\"font\":{},\"showarrow\":false,\"text\":\"TYPE=FINALIST\",\"x\":0.49999999999999994,\"xanchor\":\"center\",\"xref\":\"paper\",\"y\":1.0,\"yanchor\":\"bottom\",\"yref\":\"paper\"},{\"font\":{},\"showarrow\":false,\"text\":\"TYPE=REGULAR SEASON CHAMPION\",\"x\":0.8399999999999999,\"xanchor\":\"center\",\"xref\":\"paper\",\"y\":1.0,\"yanchor\":\"bottom\",\"yref\":\"paper\"}],\"legend\":{\"title\":{\"text\":\"TYPE\"},\"tracegroupgap\":0},\"title\":{\"text\":\"Win Percentage of NHL Cup Finalists and Regular Season Champions. with 5-Year Rolling Average\"},\"height\":800,\"width\":1200},                        {\"responsive\": true}                    ).then(function(){\n",
       "                            \n",
       "var gd = document.getElementById('54798b9a-6d92-40a3-8d34-08d887997f86');\n",
       "var x = new MutationObserver(function (mutations, observer) {{\n",
       "        var display = window.getComputedStyle(gd).display;\n",
       "        if (!display || display === 'none') {{\n",
       "            console.log([gd, 'removed!']);\n",
       "            Plotly.purge(gd);\n",
       "            observer.disconnect();\n",
       "        }}\n",
       "}});\n",
       "\n",
       "// Listen for the removal of the full notebook cells\n",
       "var notebookContainer = gd.closest('#notebook-container');\n",
       "if (notebookContainer) {{\n",
       "    x.observe(notebookContainer, {childList: true});\n",
       "}}\n",
       "\n",
       "// Listen for the clearing of the current output cell\n",
       "var outputEl = gd.closest('.output');\n",
       "if (outputEl) {{\n",
       "    x.observe(outputEl, {childList: true});\n",
       "}}\n",
       "\n",
       "                        })                };                });            </script>        </div>"
      ]
     },
     "metadata": {},
     "output_type": "display_data"
    }
   ],
   "source": [
    "Scatter_Plot2 = px.scatter(New_df, x='YEAR', y=\"POINTS %\", color=\"TYPE\", trendline=\"rolling\", trendline_options=dict(window=5),\n",
    "                title=\"Win Percentage of NHL Cup Finalists and Regular Season Champions. with 5-Year Rolling Average\",  \n",
    "                facet_col=\"TYPE\", hover_name=\"TEAM\", width=1200, height=800) #Using facet_col to make it easier to vizualise the three trendlines.\n",
    "Scatter_Plot2"
   ]
  },
  {
   "cell_type": "markdown",
   "id": "8a17c81d-575e-41ea-95ce-fb9ebe81d92c",
   "metadata": {},
   "source": [
    "While there seemed to be a general downward trend, I was surprised to see the trend rebound slightly back up. In other words, there is some sort of \"valley\" in each of the three trend lines in the early to mid 90s. It did coincide with the rapid expansion of the NHL going from 21 teams in 1991 to 30 by 200, as well as the advent of the so-called \"Dead Puck Era\" when average goals per game decreased from 8 in the 1980s to 5 by the mid-90s. The 90s saw a wave of Eastern European players entering the league following the fall of the Soviet Union and its allies. However, I fail to see how each of these events could even correlate to the \"valley\". Further investigation will be needed in the future.\n",
    "\n",
    "I also observed that there was never a point where the trend line for FINALIST was greater than the trend line for WINNER, even though there have been instances where a team that finished with fewer points beat the team that finished with more points in the Finals. So it can be safe to assume that the team with the better regular season record really is the safer bet in the Finals."
   ]
  },
  {
   "cell_type": "markdown",
   "id": "509dd9a7-5581-4014-9d7a-c745f298a34f",
   "metadata": {
    "tags": []
   },
   "source": [
    "## **Further Data Analysis**"
   ]
  },
  {
   "cell_type": "markdown",
   "id": "33df0a00-60fd-43fc-927f-55f063e1607e",
   "metadata": {},
   "source": [
    "While doing my data processing, I was fixated by the area between the \"WINNER\" and \"REGULAR SEASON CHAMPION\" trend lines. So naturally, I wanted to visualize that in a bar chart."
   ]
  },
  {
   "cell_type": "code",
   "execution_count": 59,
   "id": "63d25f8e-4d3c-4d96-8c1c-8faacfd35656",
   "metadata": {
    "tags": []
   },
   "outputs": [],
   "source": [
    "President=New_df[New_df[\"TYPE\"]==\"REGULAR SEASON CHAMPION\"] #Extract data frame filtered for regular season champion\n",
    "Winner=New_df[New_df[\"TYPE\"]==\"WINNER\"] #Extract data frame filtered for Stanley Cup winner"
   ]
  },
  {
   "cell_type": "code",
   "execution_count": 60,
   "id": "6c7e542e-e172-4ef1-b045-75532f5e258f",
   "metadata": {
    "tags": []
   },
   "outputs": [],
   "source": [
    "a=President[\"POINTS %\"]\n",
    "b=Winner[\"POINTS %\"]"
   ]
  },
  {
   "cell_type": "code",
   "execution_count": 61,
   "id": "31ea0a8e-a7e6-4fca-bb44-c6f7685212bd",
   "metadata": {
    "tags": []
   },
   "outputs": [],
   "source": [
    "diff=list(map(lambda x,y:x-y,a,b)) \n",
    "#for each year, we are finding the difference in point percentage between the regular season champion and the Stanley Cup winner.\n",
    "#Of course, if the regular season champion is also the Stanley Cup champion, the difference is 0, although it's not always the reason that the difference\n",
    "#is 0 (i.e., two teams finish with the same point percentage)."
   ]
  },
  {
   "cell_type": "code",
   "execution_count": 62,
   "id": "af8398bb-a3a9-4b96-8fec-4d0e93625020",
   "metadata": {
    "tags": []
   },
   "outputs": [
    {
     "data": {
      "text/plain": [
       "[0.0,\n",
       " 0.0,\n",
       " 0.0,\n",
       " 0.15400000000000003,\n",
       " 0.0,\n",
       " 0.0,\n",
       " 0.006000000000000005,\n",
       " 0.0,\n",
       " 0.0,\n",
       " 0.0,\n",
       " 0.0,\n",
       " 0.006000000000000005,\n",
       " 0.15600000000000003,\n",
       " 0.0,\n",
       " 0.0,\n",
       " 0.08799999999999997,\n",
       " 0.0,\n",
       " 0.02499999999999991,\n",
       " 0.19999999999999996,\n",
       " 0.0,\n",
       " 0.03700000000000003,\n",
       " 0.0,\n",
       " 0.06800000000000006,\n",
       " 0.11299999999999999,\n",
       " 0.11199999999999999,\n",
       " 0.10099999999999998,\n",
       " 0.0,\n",
       " 0.18699999999999994,\n",
       " 0.16500000000000004,\n",
       " 0.07900000000000007,\n",
       " 0.03700000000000003,\n",
       " 0.0,\n",
       " 0.06699999999999995,\n",
       " 0.0,\n",
       " 0.0,\n",
       " 0.029999999999999916,\n",
       " 0.019000000000000017,\n",
       " 0.07299999999999995,\n",
       " 0.017999999999999905,\n",
       " 0.0,\n",
       " 0.10899999999999999,\n",
       " 0.05499999999999994,\n",
       " 0.08499999999999996,\n",
       " 0.09800000000000009,\n",
       " 0.0,\n",
       " 0.10299999999999998,\n",
       " 0.06699999999999995,\n",
       " 0.09799999999999998,\n",
       " 0.06299999999999994,\n",
       " 0.07299999999999995,\n",
       " 0.17600000000000005,\n",
       " 0.05699999999999994,\n",
       " 0.061999999999999944,\n",
       " 0.018000000000000016,\n",
       " 0.1459999999999999,\n",
       " 0.02399999999999991]"
      ]
     },
     "execution_count": 62,
     "metadata": {},
     "output_type": "execute_result"
    }
   ],
   "source": [
    "diff"
   ]
  },
  {
   "cell_type": "code",
   "execution_count": 63,
   "id": "ea48f963-df3e-40cc-b243-48e59153cf21",
   "metadata": {
    "tags": []
   },
   "outputs": [],
   "source": [
    "x_axis=President[\"YEAR\"]\n",
    "y_axis=pd.Series(diff)"
   ]
  },
  {
   "cell_type": "code",
   "execution_count": 66,
   "id": "0702ea99-beb2-46d5-96a8-e5ddb0412bac",
   "metadata": {
    "tags": []
   },
   "outputs": [
    {
     "data": {
      "text/plain": [
       "Text(0.5, 1.0, 'COMPARISON OF POINT PERCENTAGE (CUP WINNERS VS. REGULAR SEASON CHAMPIONS)')"
      ]
     },
     "execution_count": 66,
     "metadata": {},
     "output_type": "execute_result"
    },
    {
     "data": {
      "image/png": "[encoded data removed]",
      "text/plain": [
       "<Figure size 1000x500 with 1 Axes>"
      ]
     },
     "metadata": {},
     "output_type": "display_data"
    }
   ],
   "source": [
    "plt.figure(figsize=(10, 5))\n",
    "plt.bar(x_axis, y_axis)\n",
    "plt.xlabel(\"YEAR\")\n",
    "plt.ylabel(\"POINTS %\")\n",
    "plt.title(\"COMPARISON OF POINT PERCENTAGE (CUP WINNERS VS. REGULAR SEASON CHAMPIONS)\")"
   ]
  },
  {
   "cell_type": "markdown",
   "id": "bc8707bd-a514-493c-8571-437974c460a3",
   "metadata": {},
   "source": [
    "It's now more common for a team that finished with the highest point percentage to NOT win the Cup versus back then, which reinforces the idea that the NHL is competitive. Also reinforcing that is the fact that the differences are usually larger compared to previous seasons."
   ]
  },
  {
   "cell_type": "markdown",
   "id": "734ab2cc-cc15-41c3-90db-56fa1a856eb9",
   "metadata": {
    "tags": []
   },
   "source": [
    "## **Concluding Remarks**"
   ]
  },
  {
   "cell_type": "markdown",
   "id": "9bb6c3a9-89ff-457e-9531-7fb3ab3f73a5",
   "metadata": {},
   "source": [
    "The plots visualize how much different the current NHL era is than before, when regular season champions more often than not won the Cup, when dynasties and higher winning percentages were commonplace. Of course, there were a few surprises, especially with the aforementioned trend line valley from the 1990s, but ice hockey is full of surprises anyways.\n",
    "\n",
    "I will say that if you are placing bets at every Stanley Cup Final, you should always definitely bet on the team with the better regular season record, you can thank my findings later.\n",
    "\n",
    "With that said, who knows how different the NHL will be, even a decade from now. New teams, new rules, new variables can alter those trend lines. Of course, these mean little for the NHL players and coaches. The best way to find out what the outcome will be is to actually play the games until your season is over, rightfully so. However, for those wanting to create playoff brackets, make predictions and place bets, and for those working in the sports betting industry, hopefully these insights will be of use to them.\n"
   ]
  }
 ],
 "metadata": {
  "kernelspec": {
   "display_name": "Python 3 (ipykernel)",
   "language": "python",
   "name": "python3"
  },
  "language_info": {
   "codemirror_mode": {
    "name": "ipython",
    "version": 3
   },
   "file_extension": ".py",
   "mimetype": "text/x-python",
   "name": "python",
   "nbconvert_exporter": "python",
   "pygments_lexer": "ipython3",
   "version": "3.11.5"
  }
 },
 "nbformat": 4,
 "nbformat_minor": 5
}
